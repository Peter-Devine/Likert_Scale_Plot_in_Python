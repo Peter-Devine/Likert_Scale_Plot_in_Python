{
 "cells": [
  {
   "cell_type": "code",
   "execution_count": null,
   "metadata": {},
   "outputs": [],
   "source": [
    "import pandas as pd\n",
    "from PlotLikertOverConditions import *"
   ]
  },
  {
   "cell_type": "markdown",
   "metadata": {},
   "source": [
    "# Python code for plotting stacked bar charts for Likert Scales "
   ]
  },
  {
   "cell_type": "markdown",
   "metadata": {},
   "source": [
    "! Dependencies: numpy, matplotlib, pandas, and seaborn"
   ]
  },
  {
   "cell_type": "markdown",
   "metadata": {},
   "source": [
    "## Example 1: Only ploting after condition questions"
   ]
  },
  {
   "cell_type": "markdown",
   "metadata": {},
   "source": [
    "The csv file should have a format similar to 'eg1.csv' where condition indices are writen in one column and other columns include the likert scale responces for different questions that participnats are asked to answer after each condition. Number of rows should be equal to number_of_participants*number_of_conditions\n"
   ]
  },
  {
   "cell_type": "code",
   "execution_count": null,
   "metadata": {},
   "outputs": [],
   "source": [
    "df1=data=pd.read_csv('after_condition_questions.csv')\n",
    "df1.head(3)"
   ]
  },
  {
   "cell_type": "code",
   "execution_count": null,
   "metadata": {},
   "outputs": [],
   "source": [
    "\n",
    "PlotLikertOverConditions(df1,5)"
   ]
  },
  {
   "cell_type": "markdown",
   "metadata": {},
   "source": [
    "## Example 2: Only ploting after condition questions +  custom labels for Likert min/max"
   ]
  },
  {
   "cell_type": "code",
   "execution_count": null,
   "metadata": {},
   "outputs": [],
   "source": [
    "## Customize Likert min/max labels\n",
    "customLikertRange={1:['very easy','very difficult'] ,\n",
    "                   2:['very intuitive','very unnatural'] ,\n",
    "                   3:['very low','very high'] ,\n",
    "                   4:['very low','very high']  }\n",
    "PlotLikertOverConditions(df1,5 ,customLikertRange)\n"
   ]
  },
  {
   "cell_type": "markdown",
   "metadata": {},
   "source": [
    "##  Example 3: Adding a few general questions (questions been asked at the end) to the same plot"
   ]
  },
  {
   "cell_type": "markdown",
   "metadata": {},
   "source": [
    "Have all general questions in a seperate table. Number of rows should be equal to the number of participants"
   ]
  },
  {
   "cell_type": "code",
   "execution_count": null,
   "metadata": {
    "scrolled": true
   },
   "outputs": [],
   "source": [
    "df2=data=pd.read_csv('general_questions.csv')\n",
    "df2.head()\n",
    "\n",
    "## Likert min/max labels for the general questions\n",
    "customLikertRange2={1:['no effort','a lot of effort'] }\n",
    "PlotLikertOverConditions(df1,5,customLikertRange,df2,customLikertRange2)"
   ]
  }
 ],
 "metadata": {
  "kernelspec": {
   "display_name": "Python 3",
   "language": "python",
   "name": "python3"
  },
  "language_info": {
   "codemirror_mode": {
    "name": "ipython",
    "version": 3
   },
   "file_extension": ".py",
   "mimetype": "text/x-python",
   "name": "python",
   "nbconvert_exporter": "python",
   "pygments_lexer": "ipython3",
   "version": "3.6.5"
  },
  "toc": {
   "nav_menu": {},
   "number_sections": true,
   "sideBar": true,
   "skip_h1_title": false,
   "title_cell": "Table of Contents",
   "title_sidebar": "Contents",
   "toc_cell": false,
   "toc_position": {},
   "toc_section_display": true,
   "toc_window_display": false
  }
 },
 "nbformat": 4,
 "nbformat_minor": 2
}
